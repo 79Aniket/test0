{
 "cells": [
  {
   "cell_type": "code",
   "execution_count": null,
   "id": "c1f82ec9-7015-41d4-b375-359b003a397b",
   "metadata": {},
   "outputs": [],
   "source": [
    "#Q1.What will be the data type of the above given variable."
   ]
  },
  {
   "cell_type": "code",
   "execution_count": 12,
   "id": "e31a2301-36a0-4171-8c93-5f78ab22f45d",
   "metadata": {},
   "outputs": [],
   "source": [
    "a = \"7,9,6\""
   ]
  },
  {
   "cell_type": "code",
   "execution_count": 13,
   "id": "cc9fdbc9-d2e7-4da7-bde6-b492edb6b34e",
   "metadata": {},
   "outputs": [
    {
     "data": {
      "text/plain": [
       "'7,9,6'"
      ]
     },
     "execution_count": 13,
     "metadata": {},
     "output_type": "execute_result"
    }
   ],
   "source": [
    "a"
   ]
  },
  {
   "cell_type": "code",
   "execution_count": 4,
   "id": "30745b0d-503c-4608-8af6-4e7a9c96cdbd",
   "metadata": {},
   "outputs": [
    {
     "data": {
      "text/plain": [
       "str"
      ]
     },
     "execution_count": 4,
     "metadata": {},
     "output_type": "execute_result"
    }
   ],
   "source": [
    "type((a))"
   ]
  },
  {
   "cell_type": "code",
   "execution_count": 5,
   "id": "54db1276-62df-43bf-89c5-49a02f6db1e5",
   "metadata": {},
   "outputs": [],
   "source": [
    "l = [2, 3, 90, \"apple\", True , 7+6j ,40.60]"
   ]
  },
  {
   "cell_type": "code",
   "execution_count": 14,
   "id": "3500d7d0-72b3-434f-950d-7186a2f2c291",
   "metadata": {},
   "outputs": [
    {
     "data": {
      "text/plain": [
       "[2, 3, 90, 'apple', True, (7+6j), 40.6]"
      ]
     },
     "execution_count": 14,
     "metadata": {},
     "output_type": "execute_result"
    }
   ],
   "source": [
    "l"
   ]
  },
  {
   "cell_type": "code",
   "execution_count": 6,
   "id": "4785765f-8c18-471d-b14f-fa46db69d5ea",
   "metadata": {},
   "outputs": [
    {
     "data": {
      "text/plain": [
       "list"
      ]
     },
     "execution_count": 6,
     "metadata": {},
     "output_type": "execute_result"
    }
   ],
   "source": [
    "type((l))"
   ]
  },
  {
   "cell_type": "code",
   "execution_count": 7,
   "id": "f2f9c23d-03f7-4984-a7ce-06e1190b2d13",
   "metadata": {},
   "outputs": [],
   "source": [
    "f = 50.2"
   ]
  },
  {
   "cell_type": "code",
   "execution_count": 15,
   "id": "9a3cf130-13c4-4745-b720-7a7b3e664706",
   "metadata": {},
   "outputs": [
    {
     "data": {
      "text/plain": [
       "50.2"
      ]
     },
     "execution_count": 15,
     "metadata": {},
     "output_type": "execute_result"
    }
   ],
   "source": [
    "f"
   ]
  },
  {
   "cell_type": "code",
   "execution_count": 11,
   "id": "1f9e52e4-a09f-4b5f-89ec-68f40d2951fe",
   "metadata": {},
   "outputs": [
    {
     "data": {
      "text/plain": [
       "float"
      ]
     },
     "execution_count": 11,
     "metadata": {},
     "output_type": "execute_result"
    }
   ],
   "source": [
    "type((f))"
   ]
  },
  {
   "cell_type": "code",
   "execution_count": 16,
   "id": "b50d1b31-7bd9-49ba-a992-df07091d7161",
   "metadata": {},
   "outputs": [],
   "source": [
    "t = (\"l\",9+6j)"
   ]
  },
  {
   "cell_type": "code",
   "execution_count": 18,
   "id": "e183b25b-9bfe-4d7b-8dfb-23b328d2d6dd",
   "metadata": {},
   "outputs": [
    {
     "data": {
      "text/plain": [
       "('l', (9+6j))"
      ]
     },
     "execution_count": 18,
     "metadata": {},
     "output_type": "execute_result"
    }
   ],
   "source": [
    "t"
   ]
  },
  {
   "cell_type": "code",
   "execution_count": 17,
   "id": "58c0fcda-11df-4032-8c36-f16336a5f7d0",
   "metadata": {},
   "outputs": [
    {
     "data": {
      "text/plain": [
       "tuple"
      ]
     },
     "execution_count": 17,
     "metadata": {},
     "output_type": "execute_result"
    }
   ],
   "source": [
    "type((t))"
   ]
  },
  {
   "cell_type": "code",
   "execution_count": null,
   "id": "023144c9-9ed3-4816-8a60-44aadede337a",
   "metadata": {},
   "outputs": [],
   "source": [
    "#Q2. Given are some following variables containing data"
   ]
  },
  {
   "cell_type": "code",
   "execution_count": 3,
   "id": "19ce02d3-57d0-4a25-bdd8-c062ac517009",
   "metadata": {},
   "outputs": [],
   "source": [
    "var1 = ' '"
   ]
  },
  {
   "cell_type": "code",
   "execution_count": 4,
   "id": "20039fce-acc0-4446-bb12-ca7f43ea2acd",
   "metadata": {},
   "outputs": [
    {
     "name": "stdout",
     "output_type": "stream",
     "text": [
      "<class 'str'>\n"
     ]
    }
   ],
   "source": [
    "print(type(var1))"
   ]
  },
  {
   "cell_type": "code",
   "execution_count": 5,
   "id": "a3b656b8-fe74-4fb7-90bd-90d964386733",
   "metadata": {},
   "outputs": [],
   "source": [
    "var2 = '[ DS , ML , Python]'\n"
   ]
  },
  {
   "cell_type": "code",
   "execution_count": 6,
   "id": "c01d6b17-3b0f-4d8f-a976-e76d50910d37",
   "metadata": {},
   "outputs": [
    {
     "name": "stdout",
     "output_type": "stream",
     "text": [
      "<class 'str'>\n"
     ]
    }
   ],
   "source": [
    "print(type(var2))"
   ]
  },
  {
   "cell_type": "code",
   "execution_count": 7,
   "id": "26d7cac6-9864-4c04-bbd9-89352883a478",
   "metadata": {},
   "outputs": [],
   "source": [
    "var3 = [ 'DS' , 'ML' , 'Python' ]\n"
   ]
  },
  {
   "cell_type": "code",
   "execution_count": 8,
   "id": "45e2c6fc-a606-4b19-82f3-292834bc43ed",
   "metadata": {},
   "outputs": [
    {
     "data": {
      "text/plain": [
       "list"
      ]
     },
     "execution_count": 8,
     "metadata": {},
     "output_type": "execute_result"
    }
   ],
   "source": [
    "type(var3)"
   ]
  },
  {
   "cell_type": "code",
   "execution_count": 9,
   "id": "f22a6404-5cac-44cd-835f-dde36e63d0c6",
   "metadata": {},
   "outputs": [],
   "source": [
    "var4 = 1."
   ]
  },
  {
   "cell_type": "code",
   "execution_count": 10,
   "id": "d9527eaa-45a0-408d-a731-8f011e264242",
   "metadata": {},
   "outputs": [
    {
     "data": {
      "text/plain": [
       "float"
      ]
     },
     "execution_count": 10,
     "metadata": {},
     "output_type": "execute_result"
    }
   ],
   "source": [
    "type(var4)"
   ]
  },
  {
   "cell_type": "code",
   "execution_count": null,
   "id": "adbd5774-db93-44b1-9551-22abed14cd78",
   "metadata": {},
   "outputs": [],
   "source": [
    "#Q3. Explain the use of the following operators using an example:\n"
   ]
  },
  {
   "cell_type": "code",
   "execution_count": 12,
   "id": "4d33c429-be2a-42cf-b073-0dd580d22ee0",
   "metadata": {},
   "outputs": [
    {
     "data": {
      "text/plain": [
       "2.0"
      ]
     },
     "execution_count": 12,
     "metadata": {},
     "output_type": "execute_result"
    }
   ],
   "source": [
    "60/30     "
   ]
  },
  {
   "cell_type": "code",
   "execution_count": 14,
   "id": "d450c49e-0e90-482e-b252-810d36d43dfb",
   "metadata": {},
   "outputs": [
    {
     "data": {
      "text/plain": [
       "40"
      ]
     },
     "execution_count": 14,
     "metadata": {},
     "output_type": "execute_result"
    }
   ],
   "source": [
    "90%50      "
   ]
  },
  {
   "cell_type": "code",
   "execution_count": 15,
   "id": "e9f348cd-91a8-4eaf-877b-77d1797f0710",
   "metadata": {},
   "outputs": [
    {
     "data": {
      "text/plain": [
       "1"
      ]
     },
     "execution_count": 15,
     "metadata": {},
     "output_type": "execute_result"
    }
   ],
   "source": [
    "40//30"
   ]
  },
  {
   "cell_type": "code",
   "execution_count": 17,
   "id": "5a8cc4e6-4b84-4646-85ab-50d446d0679e",
   "metadata": {},
   "outputs": [
    {
     "data": {
      "text/plain": [
       "125"
      ]
     },
     "execution_count": 17,
     "metadata": {},
     "output_type": "execute_result"
    }
   ],
   "source": [
    "5**3"
   ]
  },
  {
   "cell_type": "markdown",
   "id": "9a6090ee-5679-4ebd-9914-670176c7d6eb",
   "metadata": {},
   "source": [
    "#Q4. Create a list of length 10 of your choice containing multiple types of data. Using for loop print the\n",
    "#element and its data type.\n",
    "\n"
   ]
  },
  {
   "cell_type": "code",
   "execution_count": 15,
   "id": "c1ab6dd7-abd9-4584-b9ee-08c633dda2a6",
   "metadata": {},
   "outputs": [],
   "source": [
    "l = [ 3, \"apple\", 50.2, 25, \"pw skills\", 80, True, 30.20, \"data science\", 63]"
   ]
  },
  {
   "cell_type": "code",
   "execution_count": 17,
   "id": "fa84f8fa-ae9a-45e7-8356-6ee770afbfe0",
   "metadata": {},
   "outputs": [
    {
     "name": "stdout",
     "output_type": "stream",
     "text": [
      "3 <class 'int'>\n",
      "apple <class 'str'>\n",
      "50.2 <class 'float'>\n",
      "25 <class 'int'>\n",
      "pw skills <class 'str'>\n",
      "80 <class 'int'>\n",
      "True <class 'bool'>\n",
      "30.2 <class 'float'>\n",
      "data science <class 'str'>\n",
      "63 <class 'int'>\n"
     ]
    }
   ],
   "source": [
    "for s in l :\n",
    "    print(s, type(s))"
   ]
  },
  {
   "cell_type": "markdown",
   "id": "41d54449-0e74-4e7f-b9dd-d95fb9ff4eee",
   "metadata": {},
   "source": [
    "#Q6. Create a list containing 25 int type data. Using for loop and if-else condition print if the element is\n",
    "#divisible by 3 or not.\n",
    "\n",
    "\n"
   ]
  },
  {
   "cell_type": "code",
   "execution_count": 12,
   "id": "aa223fa5-b9fb-4f7d-91a0-7c595a70e7aa",
   "metadata": {},
   "outputs": [
    {
     "name": "stdout",
     "output_type": "stream",
     "text": [
      "1\n",
      "2\n",
      "3\n",
      "divisible by 3 \n",
      "4\n",
      "5\n",
      "6\n",
      "divisible by 3 \n",
      "7\n",
      "8\n",
      "9\n",
      "divisible by 3 \n",
      "12\n",
      "divisible by 3 \n",
      "23\n",
      "25\n",
      "45\n",
      "divisible by 3 \n",
      "78\n",
      "divisible by 3 \n",
      "40\n",
      "71\n",
      "90\n",
      "divisible by 3 \n",
      "50\n",
      "33\n",
      "divisible by 3 \n",
      "22\n",
      "44\n",
      "41\n",
      "74\n",
      "46\n",
      "10\n"
     ]
    }
   ],
   "source": [
    "a =  [1,2,3,4,5,6,7,8,9,12,23,25,45,78,40,71,90,50,33,22,44,41,74,46,10]\n",
    "for i in a :\n",
    "    print(i)\n",
    "    if i % 3 == 0 :\n",
    "        \n",
    "            print(\"divisible by 3 \")\n",
    "    "
   ]
  },
  {
   "cell_type": "markdown",
   "id": "b8ccafda-88d5-4627-8573-972a5aac42e6",
   "metadata": {},
   "source": [
    "#Q7. What do you understand about mutable and immutable data types? Give examples for both showing\n",
    "#this property"
   ]
  },
  {
   "cell_type": "code",
   "execution_count": 3,
   "id": "50401760-ef64-443b-a44d-eede8365173d",
   "metadata": {},
   "outputs": [],
   "source": [
    "list1 =  [1,2,8,66,47,633,]\n"
   ]
  },
  {
   "cell_type": "code",
   "execution_count": 4,
   "id": "3e999ba7-cd02-4dca-bfb8-51d585f42094",
   "metadata": {},
   "outputs": [
    {
     "data": {
      "text/plain": [
       "[1, 2, 8, 66, 47, 633]"
      ]
     },
     "execution_count": 4,
     "metadata": {},
     "output_type": "execute_result"
    }
   ],
   "source": [
    "list1"
   ]
  },
  {
   "cell_type": "code",
   "execution_count": 8,
   "id": "130b6e37-7db5-4bd0-b61a-f377b55e6360",
   "metadata": {},
   "outputs": [],
   "source": [
    "list1[3]=33"
   ]
  },
  {
   "cell_type": "code",
   "execution_count": 9,
   "id": "fa9e6827-abfb-4d23-a737-a3f036d5a972",
   "metadata": {},
   "outputs": [
    {
     "data": {
      "text/plain": [
       "[1, 2, 8, 33, 47, 633]"
      ]
     },
     "execution_count": 9,
     "metadata": {},
     "output_type": "execute_result"
    }
   ],
   "source": [
    "list1"
   ]
  },
  {
   "cell_type": "code",
   "execution_count": 10,
   "id": "df246e78-98e9-47af-9fef-646fc5cdba9e",
   "metadata": {},
   "outputs": [],
   "source": [
    "# this is mutable data types"
   ]
  },
  {
   "cell_type": "code",
   "execution_count": 11,
   "id": "301e1354-557e-4be3-b26b-d04a3765c7e0",
   "metadata": {},
   "outputs": [],
   "source": [
    "str1 = \"pw, sun, night, for, pop\""
   ]
  },
  {
   "cell_type": "code",
   "execution_count": 12,
   "id": "631b3504-9284-4d99-a748-f70e70066c83",
   "metadata": {},
   "outputs": [
    {
     "data": {
      "text/plain": [
       "'pw, sun, night, for, pop'"
      ]
     },
     "execution_count": 12,
     "metadata": {},
     "output_type": "execute_result"
    }
   ],
   "source": [
    "str1"
   ]
  },
  {
   "cell_type": "code",
   "execution_count": 13,
   "id": "0cdec04c-3a7f-4429-9ac1-c0af5f34ff34",
   "metadata": {},
   "outputs": [
    {
     "ename": "TypeError",
     "evalue": "'str' object does not support item assignment",
     "output_type": "error",
     "traceback": [
      "\u001b[0;31m---------------------------------------------------------------------------\u001b[0m",
      "\u001b[0;31mTypeError\u001b[0m                                 Traceback (most recent call last)",
      "Cell \u001b[0;32mIn[13], line 1\u001b[0m\n\u001b[0;32m----> 1\u001b[0m \u001b[43mstr1\u001b[49m\u001b[43m[\u001b[49m\u001b[38;5;241;43m3\u001b[39;49m\u001b[43m]\u001b[49m\u001b[38;5;241m=\u001b[39m\u001b[38;5;124m\"\u001b[39m\u001b[38;5;124mfrom\u001b[39m\u001b[38;5;124m\"\u001b[39m\n",
      "\u001b[0;31mTypeError\u001b[0m: 'str' object does not support item assignment"
     ]
    }
   ],
   "source": [
    "str1[3]=\"from\""
   ]
  },
  {
   "cell_type": "code",
   "execution_count": 15,
   "id": "c4954e1f-7363-4433-9fd7-c63fc347e262",
   "metadata": {},
   "outputs": [
    {
     "data": {
      "text/plain": [
       "str"
      ]
     },
     "execution_count": 15,
     "metadata": {},
     "output_type": "execute_result"
    }
   ],
   "source": [
    "type(str1)"
   ]
  },
  {
   "cell_type": "code",
   "execution_count": 18,
   "id": "28e13d38-3871-4f43-bfe0-4e72f0c3baab",
   "metadata": {},
   "outputs": [],
   "source": [
    "# this is immutable data types"
   ]
  },
  {
   "cell_type": "markdown",
   "id": "06d8359d-8b1d-4189-a136-e44c5dc583ac",
   "metadata": {},
   "source": [
    "Q5. Using a while loop, verify if the number A is purely divisible by number B and if so then how many\n",
    "times it can be divisible.\n",
    "\n"
   ]
  },
  {
   "cell_type": "code",
   "execution_count": 1,
   "id": "4e22e7dd-c84f-4050-8148-dac32ef0d4cd",
   "metadata": {},
   "outputs": [
    {
     "name": "stdin",
     "output_type": "stream",
     "text": [
      "Enter the value of a:  10\n",
      "Enter the value of b:  2\n"
     ]
    },
    {
     "name": "stdout",
     "output_type": "stream",
     "text": [
      "Number a is purely divisible by b 1 time.\n"
     ]
    }
   ],
   "source": [
    "a = int(input(\"Enter the value of a: \"))\n",
    "b = int(input(\"Enter the value of b: \"))\n",
    "\n",
    "count = 0\n",
    "while a % b == 0:\n",
    "    count += 1\n",
    "    a = a / b\n",
    "    \n",
    "if count > 0:\n",
    "    print(\"Number a is purely divisible by b\", count, \"time.\")\n",
    "else:\n",
    "    print(\"Nunmber a is not  purely divisible by b.\")"
   ]
  },
  {
   "cell_type": "code",
   "execution_count": null,
   "id": "f6c4e2c2-ca2b-4fbd-b10a-c374db6c446f",
   "metadata": {},
   "outputs": [],
   "source": []
  }
 ],
 "metadata": {
  "kernelspec": {
   "display_name": "Python 3 (ipykernel)",
   "language": "python",
   "name": "python3"
  },
  "language_info": {
   "codemirror_mode": {
    "name": "ipython",
    "version": 3
   },
   "file_extension": ".py",
   "mimetype": "text/x-python",
   "name": "python",
   "nbconvert_exporter": "python",
   "pygments_lexer": "ipython3",
   "version": "3.10.8"
  }
 },
 "nbformat": 4,
 "nbformat_minor": 5
}
